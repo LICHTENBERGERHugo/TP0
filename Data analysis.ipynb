{
 "cells": [
  {
   "attachments": {},
   "cell_type": "markdown",
   "id": "f88ab833",
   "metadata": {},
   "source": [
    "## Intro"
   ]
  },
  {
   "cell_type": "code",
   "execution_count": 9,
   "id": "dff884bf",
   "metadata": {},
   "outputs": [],
   "source": [
    "from src.catching import attempt_catch\n",
    "from src.pokemon import PokemonFactory, StatusEffect\n",
    "import numpy as np\n",
    "import json\n",
    "\n",
    "factory = PokemonFactory(\"pokemon.json\")\n",
    "\n",
    "with open(\"pokemon.json\", \"r\") as f:\n",
    "    contenu = json.load(f)\n",
    "\n",
    "\n",
    "    "
   ]
  },
  {
   "cell_type": "code",
   "execution_count": 20,
   "id": "6aa22121",
   "metadata": {},
   "outputs": [
    {
     "name": "stdout",
     "output_type": "stream",
     "text": [
      "Pokemon : jolteon\n",
      "Pokeball : pokeball\n",
      "Pokeball : ultraball\n",
      "Pokeball : fastball\n",
      "Pokeball : heavyball\n",
      "Pokemon : caterpie\n",
      "Pokeball : pokeball\n",
      "Pokeball : ultraball\n",
      "Pokeball : fastball\n",
      "Pokeball : heavyball\n",
      "Pokemon : snorlax\n",
      "Pokeball : pokeball\n",
      "Pokeball : ultraball\n",
      "Pokeball : fastball\n",
      "Pokeball : heavyball\n",
      "Pokemon : onix\n",
      "Pokeball : pokeball\n",
      "Pokeball : ultraball\n",
      "Pokeball : fastball\n",
      "Pokeball : heavyball\n",
      "Pokemon : mewtwo\n",
      "Pokeball : pokeball\n",
      "Pokeball : ultraball\n",
      "Pokeball : fastball\n",
      "Pokeball : heavyball\n"
     ]
    },
    {
     "data": {
      "image/png": "[encoded data removed]",
      "text/plain": [
       "<Figure size 432x288 with 1 Axes>"
      ]
     },
     "metadata": {
      "needs_background": "light"
     },
     "output_type": "display_data"
    }
   ],
   "source": [
    "import matplotlib.pyplot as plt\n",
    "\n",
    "for key in contenu.keys():\n",
    "    print('Pokemon :', key)\n",
    "    pokemon = factory.create(key, 100, StatusEffect.NONE, 1)\n",
    "    for j in (\"pokeball\", \"ultraball\", \"fastball\", \"heavyball\"):\n",
    "        print('Pokeball :', j)\n",
    "        results = []\n",
    "        for i in range(100):\n",
    "                value = attempt_catch(pokemon, j)\n",
    "                results.append(value)\n",
    "        average = np.mean(results)\n",
    "        plt.bar(j, average)\n",
    "        "
   ]
  },
  {
   "cell_type": "code",
   "execution_count": null,
   "id": "540de63e",
   "metadata": {},
   "outputs": [],
   "source": []
  }
 ],
 "metadata": {
  "kernelspec": {
   "display_name": "Python 3 (ipykernel)",
   "language": "python",
   "name": "python3"
  },
  "language_info": {
   "codemirror_mode": {
    "name": "ipython",
    "version": 3
   },
   "file_extension": ".py",
   "mimetype": "text/x-python",
   "name": "python",
   "nbconvert_exporter": "python",
   "pygments_lexer": "ipython3",
   "version": "3.10.1"
  }
 },
 "nbformat": 4,
 "nbformat_minor": 5
}
