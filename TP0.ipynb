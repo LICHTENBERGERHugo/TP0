{
 "cells": [
  {
   "cell_type": "markdown",
   "id": "b82290fc",
   "metadata": {},
   "source": [
    "# Preguntas Guía\n",
    "\n",
    "Se desea evaluar qué factores influyen en la captura de un Pokemon teniendo en cuenta los\n",
    "par ́ametros inmutables del mismo junto con la pokebola utlizada. Para ello se deberán generar\n",
    "distintos gráficos que representen las respuestas a las siguientes preguntas guía:\n",
    "\n",
    "1. Acerca de pokebolas:\n",
    "a) Ejecutando la función 100 veces, para cada Pokemon en condiciones ideales\n",
    "(HP: 100%, LVL 100) ¿Cuál es la probabilidad de captura promedio para cada po-\n",
    "kebola?\n",
    "b) ¿Es cierto que algunas pokebolas son más o menos efectivas dependiendo de propie-\n",
    "dades intr ́ınsecas de cada Pokemon? Justificar.\n",
    "Sugerencia: Comparar efectividad (success/total attemps) como proporci ́on de la\n",
    "efectividad de la Pokebola b ́asica para cada Pokemon\n",
    "\n",
    "2. Acerca del estado del Pokemon:\n",
    "a) ¿Las condiciones de salud tienen algún efecto sobre la efectividad de la captura? Si\n",
    "es así, ¿Cuál es más o menos efectiva?\n",
    "b) ¿Cómo afectan los puntos de vida a la efectividad de la captura?\n",
    "Sugerencia: Elegir uno o dos Pokemones y manteniendo el resto de los par ́ametros\n",
    "constantes, calcular la probabilidad de captura para distintos HP %\n",
    "c) ¿Qu ́e par ́ametros son los que m ́as afectan la probabilidad de captura?\n",
    "d ) Teniendo en cuenta uno o dos pokemones distintos: ¿Qu ́e combinaci ́on de condiciones\n",
    "(propiedades mutables) y pokebola conviene utilizar para capturarlos?\n",
    "e) A partir del punto anterior, ¿ser ́ıa efectiva otra combinaci ́on de par ́ametros teniendo\n",
    "en cuenta un nivel del pokemon más bajo (o más alto)?"
   ]
  }
 ],
 "metadata": {
  "kernelspec": {
   "display_name": "Python 3 (ipykernel)",
   "language": "python",
   "name": "python3"
  },
  "language_info": {
   "codemirror_mode": {
    "name": "ipython",
    "version": 3
   },
   "file_extension": ".py",
   "mimetype": "text/x-python",
   "name": "python",
   "nbconvert_exporter": "python",
   "pygments_lexer": "ipython3",
   "version": "3.9.6"
  }
 },
 "nbformat": 4,
 "nbformat_minor": 5
}
